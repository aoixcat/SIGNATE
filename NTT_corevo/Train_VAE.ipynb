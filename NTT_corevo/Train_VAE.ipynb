{
 "cells": [
  {
   "cell_type": "code",
   "execution_count": 1,
   "metadata": {},
   "outputs": [],
   "source": [
    "import os \n",
    "import numpy as np\n",
    "import pandas as pd\n",
    "import librosa\n",
    "import pyworld\n",
    "import time\n",
    "import shutil\n",
    "import matplotlib.pyplot as plt\n",
    "\n",
    "from tools import *\n",
    "from model import *\n",
    "\n",
    "import torch\n",
    "import torch.nn as nn\n",
    "import torchvision.datasets as dsets\n",
    "import torchvision.transforms as transforms\n",
    "from torch.autograd import Variable"
   ]
  },
  {
   "cell_type": "code",
   "execution_count": 2,
   "metadata": {},
   "outputs": [],
   "source": [
    "data_dir = \"../data/NTT_corevo\"\n",
    "figure_dir = \"../figure/NTT_corevo/VAE\"\n",
    "model_dir = \"../model/NTT_corevo/VAE\"\n",
    "model_name = \"VAE_lr3_e10000_b4\""
   ]
  },
  {
   "cell_type": "code",
   "execution_count": 3,
   "metadata": {},
   "outputs": [
    {
     "data": {
      "text/plain": [
       "<torch._C.Generator at 0x7f4f85a82530>"
      ]
     },
     "execution_count": 3,
     "metadata": {},
     "output_type": "execute_result"
    }
   ],
   "source": [
    "seed_value = 0\n",
    "np.random.seed(seed_value)\n",
    "torch.manual_seed(seed_value)"
   ]
  },
  {
   "cell_type": "code",
   "execution_count": 4,
   "metadata": {},
   "outputs": [],
   "source": [
    "sampling_rate = 16000\n",
    "num_mcep = 36\n",
    "frame_period = 5.0\n",
    "n_frames = 1024\n",
    "label_num = 6"
   ]
  },
  {
   "cell_type": "code",
   "execution_count": 5,
   "metadata": {},
   "outputs": [],
   "source": [
    "def data_load(batch_size = 1, label = -1):\n",
    "    data_list = []\n",
    "    label_list = []\n",
    "    \n",
    "    if (label == -1):\n",
    "        random_label = True \n",
    "    else:\n",
    "        random_label =  False\n",
    "        \n",
    "    for i in range(batch_size):\n",
    "        \n",
    "        if random_label :\n",
    "            label = np.random.randint(0, label_num)\n",
    "            \n",
    "        sample_data_dir = os.path.join(data_dir, \"labeled/{:02}\".format(label))\n",
    "        file = np.random.choice(os.listdir(sample_data_dir))\n",
    "        \n",
    "        frames = 0\n",
    "        count = 0\n",
    "        while frames < n_frames:\n",
    "\n",
    "            wav, _ = librosa.load(os.path.join(sample_data_dir, file), sr = sampling_rate, mono = True)\n",
    "            wav = librosa.util.normalize(wav, norm=np.inf, axis=None)\n",
    "            wav = wav_padding(wav = wav, sr = sampling_rate, frame_period = frame_period, multiple = 4)\n",
    "            f0, timeaxis, sp, ap, mc = world_decompose(wav = wav, fs = sampling_rate, frame_period = frame_period, num_mcep = num_mcep)\n",
    "\n",
    "            if (count == 0):\n",
    "                mc_transposed = np.array(mc).T\n",
    "            else:\n",
    "                mc_transposed = np.concatenate([mc_transposed, np.array(mc).T], axis =1)\n",
    "            frames = np.shape(mc_transposed)[1]\n",
    "\n",
    "            mean = np.mean(mc_transposed)\n",
    "            std = np.std(mc_transposed)\n",
    "            mc_norm = (mc_transposed - mean)/std\n",
    "\n",
    "            count += 1\n",
    "\n",
    "        start_ = np.random.randint(frames - n_frames + 1)\n",
    "        end_ = start_ + n_frames\n",
    "\n",
    "        data_list.append(mc_norm[:,start_:end_])\n",
    "        label_list.append(label)\n",
    "\n",
    "    return torch.Tensor(data_list).view(batch_size, 1, num_mcep, n_frames), torch.Tensor(label_list).view(batch_size, 1)\n"
   ]
  },
  {
   "cell_type": "code",
   "execution_count": 6,
   "metadata": {},
   "outputs": [],
   "source": [
    "def save_figure(losses, epoch):\n",
    "    if not os.path.exists(figure_dir):\n",
    "            os.makedirs(figure_dir)\n",
    "    losses = np.array(losses)\n",
    "    x = np.linspace(0, len(losses), len(losses))\n",
    "    plt.figure()\n",
    "    plt.plot(x, losses, label=\"vae\")\n",
    "    plt.legend(bbox_to_anchor=(1, 1), loc='upper right', borderaxespad=0)\n",
    "    plt.savefig(figure_dir + \"/\" + \"epoch_{:05}\".format(epoch) + \".png\")\n",
    "    plt.savefig(figure_dir + \"/\" + \"result.png\")"
   ]
  },
  {
   "cell_type": "code",
   "execution_count": 7,
   "metadata": {},
   "outputs": [],
   "source": [
    "def model_save(model, model_dir, model_name):\n",
    "    if not os.path.exists(model_dir):\n",
    "        os.makedirs(model_dir)\n",
    "    torch.save(model.state_dict(), os.path.join(model_dir, model_name))\n",
    "    \n",
    "def model_load():\n",
    "    model = VAE()\n",
    "    model.load_state_dict(torch.load(os.path.join(model_dir, model_name)))\n",
    "    return model"
   ]
  },
  {
   "cell_type": "code",
   "execution_count": 8,
   "metadata": {},
   "outputs": [],
   "source": [
    "learning_rate = 1e-3\n",
    "num_epoch = 10000\n",
    "batch_size = 4"
   ]
  },
  {
   "cell_type": "code",
   "execution_count": 9,
   "metadata": {},
   "outputs": [
    {
     "data": {
      "text/plain": [
       "'\\ndevice = torch.device(\"cuda\" if torch.cuda.is_available() else \"cpu\")\\nprint(device)\\n\\nmodel = VAE().to(device)\\noptimizer = torch.optim.Adam(model.parameters(), lr=learning_rate)\\n\\nmodel.train()\\n\\nlosses = []\\n\\nfor epoch in range(num_epoch):\\n    epoch += 1\\n    \\n    x_, label_ = data_load(batch_size)\\n    optimizer.zero_grad()\\n    loss = model.calc_loss(x_)\\n    loss.backward()\\n    losses.append(loss.item())\\n    optimizer.step()\\n    \\n    if epoch % 500 == 0:\\n        save_figure(losses, epoch)\\n        model_save(model, model_dir, model_name + \"_{}\".format(epoch))\\n        model_save(model, model_dir, model_name)\\n\\n    print(\"Epoch {}  :  Loss  {}\". format(epoch, loss.item()))\\n'"
      ]
     },
     "execution_count": 9,
     "metadata": {},
     "output_type": "execute_result"
    }
   ],
   "source": [
    "device = torch.device(\"cuda\" if torch.cuda.is_available() else \"cpu\")\n",
    "print(device)\n",
    "\n",
    "model = VAE().to(device)\n",
    "optimizer = torch.optim.Adam(model.parameters(), lr=learning_rate)\n",
    "\n",
    "model.train()\n",
    "\n",
    "losses = []\n",
    "\n",
    "for epoch in range(num_epoch):\n",
    "    epoch += 1\n",
    "    \n",
    "    x_, label_ = data_load(batch_size)\n",
    "    optimizer.zero_grad()\n",
    "    loss = model.calc_loss(x_)\n",
    "    loss.backward()\n",
    "    losses.append(loss.item())\n",
    "    optimizer.step()\n",
    "    \n",
    "    if epoch % 500 == 0:\n",
    "        save_figure(losses, epoch)\n",
    "        model_save(model, model_dir, model_name + \"_{}\".format(epoch))\n",
    "        model_save(model, model_dir, model_name)\n",
    "\n",
    "    print(\"Epoch {}  :  Loss  {}\". format(epoch, loss.item()))"
   ]
  }
 ],
 "metadata": {
  "kernelspec": {
   "display_name": "Python 3",
   "language": "python",
   "name": "python3"
  },
  "language_info": {
   "codemirror_mode": {
    "name": "ipython",
    "version": 3
   },
   "file_extension": ".py",
   "mimetype": "text/x-python",
   "name": "python",
   "nbconvert_exporter": "python",
   "pygments_lexer": "ipython3",
   "version": "3.6.4"
  }
 },
 "nbformat": 4,
 "nbformat_minor": 2
}
