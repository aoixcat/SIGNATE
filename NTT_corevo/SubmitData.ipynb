{
 "cells": [
  {
   "cell_type": "code",
   "execution_count": 1,
   "metadata": {},
   "outputs": [],
   "source": [
    "import os \n",
    "import numpy as np\n",
    "import pandas as pd\n",
    "import librosa\n",
    "import pyworld\n",
    "import time\n",
    "import shutil\n",
    "import matplotlib.pyplot as plt\n",
    "\n",
    "from tools import *\n",
    "from model import *\n",
    "\n",
    "import torch\n",
    "import torch.nn as nn\n",
    "import torchvision.datasets as dsets\n",
    "import torchvision.transforms as transforms\n",
    "from torch.autograd import Variable"
   ]
  },
  {
   "cell_type": "code",
   "execution_count": 2,
   "metadata": {},
   "outputs": [
    {
     "data": {
      "text/plain": [
       "<torch._C.Generator at 0x7f09eb535570>"
      ]
     },
     "execution_count": 2,
     "metadata": {},
     "output_type": "execute_result"
    }
   ],
   "source": [
    "seed_value = 0\n",
    "np.random.seed(seed_value)\n",
    "torch.manual_seed(seed_value)"
   ]
  },
  {
   "cell_type": "code",
   "execution_count": 3,
   "metadata": {},
   "outputs": [],
   "source": [
    "sampling_rate = 16000\n",
    "num_mcep = 36\n",
    "frame_period = 5.0\n",
    "n_frames = 512\n",
    "num_label = 6"
   ]
  },
  {
   "cell_type": "code",
   "execution_count": 4,
   "metadata": {},
   "outputs": [],
   "source": [
    "model_dir = \"../model/NTT_corevo/DPM\"\n",
    "model_name = \"DPM_lr3_e10000_b4\""
   ]
  },
  {
   "cell_type": "code",
   "execution_count": 5,
   "metadata": {},
   "outputs": [],
   "source": [
    "def model_load_DPM():\n",
    "    model = PredictingModel()\n",
    "    model.load_state_dict(torch.load(os.path.join(model_dir, model_name)))\n",
    "    return model"
   ]
  },
  {
   "cell_type": "code",
   "execution_count": 6,
   "metadata": {},
   "outputs": [],
   "source": [
    "def data_load(batch_size = 1, label = -1, path=\"\"):\n",
    "    data_list = []\n",
    "    label_list = []\n",
    "    \n",
    "    if (label == -1):\n",
    "        random_label = True \n",
    "    else:\n",
    "        random_label =  False\n",
    "        \n",
    "    for i in range(batch_size):\n",
    "        \n",
    "        if random_label :\n",
    "            label = np.random.randint(0, num_label)\n",
    "        \n",
    "        if path == \"\":\n",
    "            sample_data_dir = os.path.join(data_dir, \"labeled/{:02}\".format(label))\n",
    "            file = np.random.choice(os.listdir(sample_data_dir))\n",
    "        else:\n",
    "            sample_data_dir = \"./\"\n",
    "            file = path\n",
    "        \n",
    "        frames = 0\n",
    "        count = 0\n",
    "        while frames < n_frames:\n",
    "\n",
    "            wav, _ = librosa.load(os.path.join(sample_data_dir, file), sr = sampling_rate, mono = True)\n",
    "            wav = librosa.util.normalize(wav, norm=np.inf, axis=None)\n",
    "            wav = wav_padding(wav = wav, sr = sampling_rate, frame_period = frame_period, multiple = 4)\n",
    "            f0, timeaxis, sp, ap, mc = world_decompose(wav = wav, fs = sampling_rate, frame_period = frame_period, num_mcep = num_mcep)\n",
    "\n",
    "            if (count == 0):\n",
    "                mc_transposed = np.array(mc).T\n",
    "            else:\n",
    "                mc_transposed = np.concatenate([mc_transposed, np.array(mc).T], axis =1)\n",
    "            frames = np.shape(mc_transposed)[1]\n",
    "\n",
    "            mean = np.mean(mc_transposed)\n",
    "            std = np.std(mc_transposed)\n",
    "            mc_norm = (mc_transposed - mean)/std\n",
    "\n",
    "            count += 1\n",
    "\n",
    "        start_ = np.random.randint(frames - n_frames + 1)\n",
    "        end_ = start_ + n_frames\n",
    "\n",
    "        data_list.append(mc_norm[:,start_:end_])\n",
    "        label_list.append(label)\n",
    "\n",
    "    return torch.Tensor(data_list).view(batch_size, 1, num_mcep, n_frames), torch.Tensor(label_list).view(batch_size, 1)\n"
   ]
  },
  {
   "cell_type": "code",
   "execution_count": null,
   "metadata": {},
   "outputs": [
    {
     "data": {
      "text/plain": [
       "PredictingModel(\n",
       "  (conv1): Conv2d(1, 8, kernel_size=(4, 8), stride=(2, 2), padding=(1, 3))\n",
       "  (conv1_bn): BatchNorm2d(8, eps=1e-05, momentum=0.1, affine=True, track_running_stats=True)\n",
       "  (conv1_gated): Conv2d(1, 8, kernel_size=(4, 8), stride=(2, 2), padding=(1, 3))\n",
       "  (conv1_gated_bn): BatchNorm2d(8, eps=1e-05, momentum=0.1, affine=True, track_running_stats=True)\n",
       "  (conv1_sigmoid): Sigmoid()\n",
       "  (conv2): Conv2d(8, 16, kernel_size=(4, 8), stride=(2, 2), padding=(1, 3))\n",
       "  (conv2_bn): BatchNorm2d(16, eps=1e-05, momentum=0.1, affine=True, track_running_stats=True)\n",
       "  (conv2_gated): Conv2d(8, 16, kernel_size=(4, 8), stride=(2, 2), padding=(1, 3))\n",
       "  (conv2_gated_bn): BatchNorm2d(16, eps=1e-05, momentum=0.1, affine=True, track_running_stats=True)\n",
       "  (conv2_sigmoid): Sigmoid()\n",
       "  (conv3): Conv2d(16, 32, kernel_size=(4, 8), stride=(2, 2), padding=(1, 3))\n",
       "  (conv3_bn): BatchNorm2d(32, eps=1e-05, momentum=0.1, affine=True, track_running_stats=True)\n",
       "  (conv3_gated): Conv2d(16, 32, kernel_size=(4, 8), stride=(2, 2), padding=(1, 3))\n",
       "  (conv3_gated_bn): BatchNorm2d(32, eps=1e-05, momentum=0.1, affine=True, track_running_stats=True)\n",
       "  (conv3_sigmoid): Sigmoid()\n",
       "  (conv4): Conv2d(32, 32, kernel_size=(1, 4), stride=(1, 2), padding=(0, 1))\n",
       "  (conv4_bn): BatchNorm2d(32, eps=1e-05, momentum=0.1, affine=True, track_running_stats=True)\n",
       "  (conv4_gated): Conv2d(32, 32, kernel_size=(1, 4), stride=(1, 2), padding=(0, 1))\n",
       "  (conv4_gated_bn): BatchNorm2d(32, eps=1e-05, momentum=0.1, affine=True, track_running_stats=True)\n",
       "  (conv4_sigmoid): Sigmoid()\n",
       "  (conv5): Conv2d(32, 32, kernel_size=(1, 4), stride=(1, 2), padding=(0, 1))\n",
       "  (conv5_bn): BatchNorm2d(32, eps=1e-05, momentum=0.1, affine=True, track_running_stats=True)\n",
       "  (conv5_gated): Conv2d(32, 32, kernel_size=(1, 4), stride=(1, 2), padding=(0, 1))\n",
       "  (conv5_gated_bn): BatchNorm2d(32, eps=1e-05, momentum=0.1, affine=True, track_running_stats=True)\n",
       "  (conv5_sigmoid): Sigmoid()\n",
       "  (conv6): Conv2d(32, 16, kernel_size=(1, 4), stride=(1, 2), padding=(0, 1))\n",
       "  (conv6_bn): BatchNorm2d(16, eps=1e-05, momentum=0.1, affine=True, track_running_stats=True)\n",
       "  (conv6_gated): Conv2d(32, 16, kernel_size=(1, 4), stride=(1, 2), padding=(0, 1))\n",
       "  (conv6_gated_bn): BatchNorm2d(16, eps=1e-05, momentum=0.1, affine=True, track_running_stats=True)\n",
       "  (conv6_sigmoid): Sigmoid()\n",
       "  (conv7): Conv2d(16, 16, kernel_size=(1, 2), stride=(1, 2))\n",
       "  (conv7_bn): BatchNorm2d(16, eps=1e-05, momentum=0.1, affine=True, track_running_stats=True)\n",
       "  (conv7_gated): Conv2d(16, 16, kernel_size=(1, 2), stride=(1, 2))\n",
       "  (conv7_gated_bn): BatchNorm2d(16, eps=1e-05, momentum=0.1, affine=True, track_running_stats=True)\n",
       "  (conv7_sigmoid): Sigmoid()\n",
       "  (dropout1): Dropout2d(p=0.5)\n",
       "  (fc1): Linear(in_features=512, out_features=64, bias=True)\n",
       "  (dropout2): Dropout2d(p=0.5)\n",
       "  (fc2): Linear(in_features=64, out_features=6, bias=True)\n",
       ")"
      ]
     },
     "execution_count": 7,
     "metadata": {},
     "output_type": "execute_result"
    }
   ],
   "source": [
    "submit_df = pd.DataFrame()\n",
    "model = model_load_DPM()\n",
    "model.eval()"
   ]
  },
  {
   "cell_type": "code",
   "execution_count": null,
   "metadata": {},
   "outputs": [
    {
     "name": "stdout",
     "output_type": "stream",
     "text": [
      "0.0%\n",
      "0.5590339892665475%\n",
      "1.118067978533095%\n",
      "1.6771019677996422%\n"
     ]
    }
   ],
   "source": [
    "feature_data_dir = \"../feature_data/NTT_corevo\"\n",
    "data_dir = \"../data/NTT_corevo\"\n",
    "train_data_dir = os.path.join(data_dir, \"train\")\n",
    "test_data_dir = os.path.join(data_dir, \"test\")\n",
    "\n",
    "list_id = []\n",
    "list_label = []\n",
    "\n",
    "\n",
    "for i, file in enumerate(os.listdir(test_data_dir)):\n",
    "    list_id.append(file[:-4])\n",
    "    data, _ = data_load(path=os.path.join(test_data_dir, file))\n",
    "    label = np.argmax(model.predict(data).data.numpy().reshape(-1))\n",
    "    if (label == 0):\n",
    "        list_label.append(\"FE_CH\")\n",
    "    elif (label == 1):\n",
    "        list_label.append(\"FE_AD\")\n",
    "    elif (label == 2):\n",
    "        list_label.append(\"FE_EL\")\n",
    "    elif (label == 3):\n",
    "        list_label.append(\"MA_CH\")\n",
    "    elif (label == 4):\n",
    "        list_label.append(\"MA_AD\")\n",
    "    elif (label == 5):\n",
    "        list_label.append(\"MA_EL\")\n",
    "    if (i % 100 == 0):\n",
    "        print(\"{:02}%\".format(i*100/len(os.listdir(test_data_dir))))\n",
    "        \n",
    "submit_df[\"id\"] = list_id\n",
    "submit_df[\"label\"] = list_label"
   ]
  },
  {
   "cell_type": "code",
   "execution_count": null,
   "metadata": {},
   "outputs": [],
   "source": [
    "submit_df.tail()"
   ]
  },
  {
   "cell_type": "code",
   "execution_count": null,
   "metadata": {},
   "outputs": [],
   "source": [
    "submit_df.to_csv(os.path.join(data_dir, \"submit.tsv\"), sep='\\t', header=False, index=False)"
   ]
  }
 ],
 "metadata": {
  "kernelspec": {
   "display_name": "Python 3",
   "language": "python",
   "name": "python3"
  },
  "language_info": {
   "codemirror_mode": {
    "name": "ipython",
    "version": 3
   },
   "file_extension": ".py",
   "mimetype": "text/x-python",
   "name": "python",
   "nbconvert_exporter": "python",
   "pygments_lexer": "ipython3",
   "version": "3.6.4"
  }
 },
 "nbformat": 4,
 "nbformat_minor": 2
}
