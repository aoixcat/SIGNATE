{
 "cells": [
  {
   "cell_type": "markdown",
   "metadata": {},
   "source": [
    "## Plan\n",
    "- create model\n",
    "    - male or female\n",
    "    - CH, AD, EL\n",
    "- extract additive infomation\n",
    "    - length\n",
    "    - sceptrum infomation"
   ]
  },
  {
   "cell_type": "code",
   "execution_count": 1,
   "metadata": {},
   "outputs": [
    {
     "ename": "KeyboardInterrupt",
     "evalue": "",
     "output_type": "error",
     "traceback": [
      "\u001b[0;31m---------------------------------------------------------------------------\u001b[0m",
      "\u001b[0;31mKeyboardInterrupt\u001b[0m                         Traceback (most recent call last)",
      "\u001b[0;32m<ipython-input-1-a87b940c0e3d>\u001b[0m in \u001b[0;36m<module>\u001b[0;34m()\u001b[0m\n\u001b[1;32m      9\u001b[0m \u001b[0;34m\u001b[0m\u001b[0m\n\u001b[1;32m     10\u001b[0m \u001b[0;32mfrom\u001b[0m \u001b[0mtools\u001b[0m \u001b[0;32mimport\u001b[0m \u001b[0;34m*\u001b[0m\u001b[0;34m\u001b[0m\u001b[0m\n\u001b[0;32m---> 11\u001b[0;31m \u001b[0;32mfrom\u001b[0m \u001b[0mmodel\u001b[0m \u001b[0;32mimport\u001b[0m \u001b[0;34m*\u001b[0m\u001b[0;34m\u001b[0m\u001b[0m\n\u001b[0m\u001b[1;32m     12\u001b[0m \u001b[0;34m\u001b[0m\u001b[0m\n\u001b[1;32m     13\u001b[0m \u001b[0;32mimport\u001b[0m \u001b[0mtorch\u001b[0m\u001b[0;34m\u001b[0m\u001b[0m\n",
      "\u001b[0;32m~/Workspace/Python/SIGNATE/NTT_corevo/model.py\u001b[0m in \u001b[0;36m<module>\u001b[0;34m()\u001b[0m\n\u001b[0;32m----> 1\u001b[0;31m \u001b[0;32mimport\u001b[0m \u001b[0mtorch\u001b[0m\u001b[0;34m\u001b[0m\u001b[0m\n\u001b[0m\u001b[1;32m      2\u001b[0m \u001b[0;32mimport\u001b[0m \u001b[0mtorch\u001b[0m\u001b[0;34m.\u001b[0m\u001b[0mnn\u001b[0m \u001b[0;32mas\u001b[0m \u001b[0mnn\u001b[0m\u001b[0;34m\u001b[0m\u001b[0m\n\u001b[1;32m      3\u001b[0m \u001b[0;32mimport\u001b[0m \u001b[0mtorch\u001b[0m\u001b[0;34m.\u001b[0m\u001b[0mnn\u001b[0m\u001b[0;34m.\u001b[0m\u001b[0mfunctional\u001b[0m \u001b[0;32mas\u001b[0m \u001b[0mF\u001b[0m\u001b[0;34m\u001b[0m\u001b[0m\n\u001b[1;32m      4\u001b[0m \u001b[0;34m\u001b[0m\u001b[0m\n\u001b[1;32m      5\u001b[0m \u001b[0;32mclass\u001b[0m \u001b[0mVAE\u001b[0m\u001b[0;34m(\u001b[0m\u001b[0mnn\u001b[0m\u001b[0;34m.\u001b[0m\u001b[0mModule\u001b[0m\u001b[0;34m)\u001b[0m\u001b[0;34m:\u001b[0m\u001b[0;34m\u001b[0m\u001b[0m\n",
      "\u001b[0;32m/anaconda3/lib/python3.6/site-packages/torch/__init__.py\u001b[0m in \u001b[0;36m<module>\u001b[0;34m()\u001b[0m\n\u001b[1;32m    282\u001b[0m \u001b[0;32mimport\u001b[0m \u001b[0mtorch\u001b[0m\u001b[0;34m.\u001b[0m\u001b[0mutils\u001b[0m\u001b[0;34m.\u001b[0m\u001b[0mbackcompat\u001b[0m\u001b[0;34m\u001b[0m\u001b[0m\n\u001b[1;32m    283\u001b[0m \u001b[0;32mimport\u001b[0m \u001b[0mtorch\u001b[0m\u001b[0;34m.\u001b[0m\u001b[0monnx\u001b[0m\u001b[0;34m\u001b[0m\u001b[0m\n\u001b[0;32m--> 284\u001b[0;31m \u001b[0;32mimport\u001b[0m \u001b[0mtorch\u001b[0m\u001b[0;34m.\u001b[0m\u001b[0mjit\u001b[0m\u001b[0;34m\u001b[0m\u001b[0m\n\u001b[0m\u001b[1;32m    285\u001b[0m \u001b[0;32mimport\u001b[0m \u001b[0mtorch\u001b[0m\u001b[0;34m.\u001b[0m\u001b[0mrandom\u001b[0m\u001b[0;34m\u001b[0m\u001b[0m\n\u001b[1;32m    286\u001b[0m \u001b[0;32mimport\u001b[0m \u001b[0mtorch\u001b[0m\u001b[0;34m.\u001b[0m\u001b[0mdistributions\u001b[0m\u001b[0;34m\u001b[0m\u001b[0m\n",
      "\u001b[0;32m/anaconda3/lib/python3.6/importlib/_bootstrap.py\u001b[0m in \u001b[0;36m_find_and_load\u001b[0;34m(name, import_)\u001b[0m\n",
      "\u001b[0;32m/anaconda3/lib/python3.6/importlib/_bootstrap.py\u001b[0m in \u001b[0;36m_find_and_load_unlocked\u001b[0;34m(name, import_)\u001b[0m\n",
      "\u001b[0;32m/anaconda3/lib/python3.6/importlib/_bootstrap.py\u001b[0m in \u001b[0;36m_find_spec\u001b[0;34m(name, path, target)\u001b[0m\n",
      "\u001b[0;32m/anaconda3/lib/python3.6/importlib/_bootstrap_external.py\u001b[0m in \u001b[0;36mfind_spec\u001b[0;34m(cls, fullname, path, target)\u001b[0m\n",
      "\u001b[0;32m/anaconda3/lib/python3.6/importlib/_bootstrap_external.py\u001b[0m in \u001b[0;36m_get_spec\u001b[0;34m(cls, fullname, path, target)\u001b[0m\n",
      "\u001b[0;32m/anaconda3/lib/python3.6/importlib/_bootstrap_external.py\u001b[0m in \u001b[0;36mfind_spec\u001b[0;34m(self, fullname, target)\u001b[0m\n",
      "\u001b[0;32m/anaconda3/lib/python3.6/importlib/_bootstrap_external.py\u001b[0m in \u001b[0;36m_path_isfile\u001b[0;34m(path)\u001b[0m\n",
      "\u001b[0;32m/anaconda3/lib/python3.6/importlib/_bootstrap_external.py\u001b[0m in \u001b[0;36m_path_is_mode_type\u001b[0;34m(path, mode)\u001b[0m\n",
      "\u001b[0;32m/anaconda3/lib/python3.6/importlib/_bootstrap_external.py\u001b[0m in \u001b[0;36m_path_stat\u001b[0;34m(path)\u001b[0m\n",
      "\u001b[0;31mKeyboardInterrupt\u001b[0m: "
     ]
    }
   ],
   "source": [
    "import os \n",
    "import numpy as np\n",
    "import pandas as pd\n",
    "import librosa\n",
    "import pyworld\n",
    "import time\n",
    "import shutil\n",
    "import matplotlib.pyplot as plt\n",
    "\n",
    "from tools import *\n",
    "from model import *\n",
    "\n",
    "import torch\n",
    "import torch.nn as nn\n",
    "import torchvision.datasets as dsets\n",
    "import torchvision.transforms as transforms\n",
    "from torch.autograd import Variable"
   ]
  },
  {
   "cell_type": "code",
   "execution_count": null,
   "metadata": {},
   "outputs": [],
   "source": [
    "seed_value = 0\n",
    "np.random.seed(seed_value)\n",
    "torch.manual_seed(seed_value)"
   ]
  },
  {
   "cell_type": "code",
   "execution_count": null,
   "metadata": {},
   "outputs": [],
   "source": [
    "data_dir = \"../data/NTT_corevo\""
   ]
  },
  {
   "cell_type": "code",
   "execution_count": null,
   "metadata": {},
   "outputs": [],
   "source": [
    "class_train = pd.read_csv(os.path.join(data_dir, \"class_train.tsv\"), delimiter='\\t', header=None)\n",
    "sample_submit = pd.read_csv(os.path.join(data_dir, \"class_train.tsv\"), delimiter='\\t', header=None)"
   ]
  },
  {
   "cell_type": "code",
   "execution_count": null,
   "metadata": {},
   "outputs": [],
   "source": [
    "class_train.tail()"
   ]
  },
  {
   "cell_type": "code",
   "execution_count": null,
   "metadata": {},
   "outputs": [],
   "source": [
    "sample_submit.head()"
   ]
  },
  {
   "cell_type": "code",
   "execution_count": null,
   "metadata": {},
   "outputs": [],
   "source": [
    "class_train[class_train[0] == \"fff371f8fd363481780cf71abadd3912\"]"
   ]
  },
  {
   "cell_type": "code",
   "execution_count": null,
   "metadata": {},
   "outputs": [],
   "source": [
    "train_data_dir = os.path.join(data_dir, \"train\")\n",
    "files = os.listdir(train_data_dir)\n",
    "list_label = []\n",
    "\n",
    "if (False):\n",
    "    if not os.path.exists(os.path.join(data_dir, \"labeled/00/\")):\n",
    "        os.makedirs(os.path.join(data_dir, \"labeled/00/\"))\n",
    "    if not os.path.exists(os.path.join(data_dir, \"labeled/01/\")):\n",
    "        os.makedirs(os.path.join(data_dir, \"labeled/01/\"))\n",
    "    if not os.path.exists(os.path.join(data_dir, \"labeled/02/\")):\n",
    "        os.makedirs(os.path.join(data_dir, \"labeled/02/\"))\n",
    "    if not os.path.exists(os.path.join(data_dir, \"labeled/03/\")):\n",
    "        os.makedirs(os.path.join(data_dir, \"labeled/03/\"))\n",
    "    if not os.path.exists(os.path.join(data_dir, \"labeled/04/\")):\n",
    "        os.makedirs(os.path.join(data_dir, \"labeled/04/\"))\n",
    "    if not os.path.exists(os.path.join(data_dir, \"labeled/05/\")):\n",
    "        os.makedirs(os.path.join(data_dir, \"labeled/05/\"))\n",
    "    for file in files:\n",
    "        file_id = file[:-4]\n",
    "        label = class_train[class_train[0] == file_id].values[0,1]\n",
    "        if (label == \"FE_CH\"):\n",
    "            shutil.copy(os.path.join(train_data_dir, file), os.path.join(data_dir, \"labeled/00/\" + file))\n",
    "        elif (label == \"FE_AD\"):\n",
    "            shutil.copy(os.path.join(train_data_dir, file), os.path.join(data_dir, \"labeled/01/\" + file))\n",
    "        elif (label == \"FE_EL\"):\n",
    "            shutil.copy(os.path.join(train_data_dir, file), os.path.join(data_dir, \"labeled/02/\" + file))\n",
    "        elif (label == \"MA_CH\"):\n",
    "            shutil.copy(os.path.join(train_data_dir, file), os.path.join(data_dir, \"labeled/03/\" + file))\n",
    "        elif (label == \"MA_AD\"):\n",
    "            shutil.copy(os.path.join(train_data_dir, file), os.path.join(data_dir, \"labeled/04/\" + file))\n",
    "        elif (label == \"MA_EL\"):\n",
    "            shutil.copy(os.path.join(train_data_dir, file), os.path.join(data_dir, \"labeled/05/\" + file))\n",
    "\n",
    "labels_num = np.zeros((6,))\n",
    "for i in range(6):\n",
    "    labels_num[i] = len(os.listdir(os.path.join(data_dir, \"labeled/0\" + str(i))))"
   ]
  },
  {
   "cell_type": "markdown",
   "metadata": {},
   "source": [
    "## Labels\n",
    "- 0: female child\n",
    "- 1: female adult\n",
    "- 2: female elder\n",
    "- 3: male child\n",
    "- 4: male adult\n",
    "- 5: male elder"
   ]
  },
  {
   "cell_type": "code",
   "execution_count": null,
   "metadata": {},
   "outputs": [],
   "source": [
    "fig = plt.figure()\n",
    "ax = fig.add_subplot(1,1,1)\n",
    "ax.plot(labels_num)\n",
    "ax.set_xlim(0,5)\n",
    "ax.set_ylim(0, 8000)\n",
    "fig.show()"
   ]
  },
  {
   "cell_type": "code",
   "execution_count": null,
   "metadata": {},
   "outputs": [],
   "source": [
    "sampling_rate = 16000\n",
    "num_mcep = 36\n",
    "frame_period = 5.0\n",
    "n_frames = 1024\n",
    "num_label = 6"
   ]
  },
  {
   "cell_type": "code",
   "execution_count": null,
   "metadata": {},
   "outputs": [],
   "source": [
    "def data_load(batch_size = 1, label = -1, path=\"\"):\n",
    "    data_list = []\n",
    "    label_list = []\n",
    "    \n",
    "    if (label == -1):\n",
    "        random_label = True \n",
    "    else:\n",
    "        random_label =  False\n",
    "        \n",
    "    for i in range(batch_size):\n",
    "        \n",
    "        if random_label :\n",
    "            label = np.random.randint(0, num_label)\n",
    "        \n",
    "        if path == \"\":\n",
    "            sample_data_dir = os.path.join(data_dir, \"labeled/{:02}\".format(label))\n",
    "            file = np.random.choice(os.listdir(sample_data_dir))\n",
    "        else:\n",
    "            sample_data_dir = \"./\"\n",
    "            file = path\n",
    "        \n",
    "        frames = 0\n",
    "        count = 0\n",
    "        while frames < n_frames:\n",
    "\n",
    "            wav, _ = librosa.load(os.path.join(sample_data_dir, file), sr = sampling_rate, mono = True)\n",
    "            wav = librosa.util.normalize(wav, norm=np.inf, axis=None)\n",
    "            wav = wav_padding(wav = wav, sr = sampling_rate, frame_period = frame_period, multiple = 4)\n",
    "            f0, timeaxis, sp, ap, mc = world_decompose(wav = wav, fs = sampling_rate, frame_period = frame_period, num_mcep = num_mcep)\n",
    "\n",
    "            if (count == 0):\n",
    "                mc_transposed = np.array(mc).T\n",
    "            else:\n",
    "                mc_transposed = np.concatenate([mc_transposed, np.array(mc).T], axis =1)\n",
    "            frames = np.shape(mc_transposed)[1]\n",
    "\n",
    "            mean = np.mean(mc_transposed)\n",
    "            std = np.std(mc_transposed)\n",
    "            mc_norm = (mc_transposed - mean)/std\n",
    "\n",
    "            count += 1\n",
    "\n",
    "        start_ = np.random.randint(frames - n_frames + 1)\n",
    "        end_ = start_ + n_frames\n",
    "\n",
    "        data_list.append(mc_norm[:,start_:end_])\n",
    "        label_list.append(label)\n",
    "\n",
    "    return torch.Tensor(data_list).view(batch_size, 1, num_mcep, n_frames), torch.Tensor(label_list).view(batch_size, 1)\n"
   ]
  },
  {
   "cell_type": "code",
   "execution_count": null,
   "metadata": {},
   "outputs": [],
   "source": [
    "a, b = data_load(batch_size=4, label=-1)"
   ]
  },
  {
   "cell_type": "code",
   "execution_count": null,
   "metadata": {},
   "outputs": [],
   "source": [
    "print(a.shape)\n",
    "print(b.shape)\n",
    "print(b)"
   ]
  },
  {
   "cell_type": "code",
   "execution_count": null,
   "metadata": {},
   "outputs": [],
   "source": [
    "model_dir_vae = \"../model/NTT_corevo/VAE\"\n",
    "model_name_vae = \"VAE_lr3_e10000_b4\"\n",
    "\n",
    "def model_load_VAE():\n",
    "    model = VAE()\n",
    "    model.load_state_dict(torch.load(os.path.join(model_dir_vae, model_name_vae)))\n",
    "    return model\n",
    "    \n",
    "model_dir_classifier = \"../model/NTT_corevo/Classifier\"\n",
    "model_name_classifier = [\n",
    "    \"Classifier_lr3_e10000_b4_label0\",\n",
    "    \"Classifier_lr3_e10000_b4_label1\",\n",
    "    \"Classifier_lr3_e10000_b4_label2\",\n",
    "    \"Classifier_lr3_e10000_b4_label3\",\n",
    "    \"Classifier_lr3_e10000_b4_label4\",\n",
    "    \"Classifier_lr3_e10000_b4_label5\"\n",
    "]\n",
    "\n",
    "def model_load_classifier(label):\n",
    "    model = Classifier()\n",
    "    model.load_state_dict(torch.load(os.path.join(model_dir_classifier, model_name_classifier[label])))\n",
    "    return model"
   ]
  },
  {
   "cell_type": "code",
   "execution_count": null,
   "metadata": {},
   "outputs": [],
   "source": [
    "train_df = pd.DataFrame()\n",
    "label_df = pd.DataFrame()\n"
   ]
  },
  {
   "cell_type": "code",
   "execution_count": null,
   "metadata": {},
   "outputs": [],
   "source": [
    "a, b = class_train.values[0]"
   ]
  },
  {
   "cell_type": "code",
   "execution_count": null,
   "metadata": {},
   "outputs": [],
   "source": [
    "num_data = len(files)\n",
    "\n",
    "list_label = np.zeros((num_label, num_data))\n",
    "list_child = np.zeros((num_data))\n",
    "list_adult = np.zeros((num_data))\n",
    "list_elder = np.zeros((num_data))\n",
    "list_male = np.zeros((num_data))\n",
    "list_female = np.zeros((num_data))\n",
    "list_length = np.zeros((num_data))\n",
    "list_f0_mean = np.zeros((num_data))\n",
    "list_f0_std = np.zeros((num_data))\n",
    "\n",
    "list_label = np.zeros((num_data))\n",
    "\n",
    "\"\"\"\n",
    "model_vae = model_load_VAE()\n",
    "for label in range(num_label):\n",
    "    model_classifier = model_load_classifier(label)\n",
    "    for i in range(num_data):\n",
    "        if ((i+1)%100==0):\n",
    "            print(\"Label  {} : {}%\".format(label, i*100//num_data))\n",
    "        file, _ = class_train.values[i]\n",
    "        x_, _ = data_load(path=os.path.join(data_dir, \"train/\"+file+\".wav\"))\n",
    "        z_ = model_vae.predict(x_)\n",
    "        list_label[0, i] = model_classifier.predict(z_).data.cpu().numpy().reshape(2,)[0]\n",
    "\"\"\"\n",
    "\n",
    "for i in range(num_data):\n",
    "    file, _ = class_train.values[i]\n",
    "    wav, _ = librosa.load(os.path.join(data_dir, \"train/\"+file+\".wav\"), sr = sampling_rate, mono = True)\n",
    "    wav = librosa.util.normalize(wav, norm=np.inf, axis=None)\n",
    "    wav = wav_padding(wav = wav, sr = sampling_rate, frame_period = frame_period, multiple = 4)\n",
    "    f0, timeaxis, sp, ap, mc = world_decompose(wav = wav, fs = sampling_rate, frame_period = frame_period, num_mcep = num_mcep)\n",
    "    f0_mean = np.mean(np.nonzero(f0))/300.\n",
    "    f0_std = np.std(np.nonzero(f0))/300.\n",
    "    list_f0_mean[i] = f0_mean\n",
    "    list_f0_std[i] = f0_std\n",
    "    \n",
    "for i in range(num_data):\n",
    "    _, label = class_train.values[i]\n",
    "    if (label == \"FE_CH\"):\n",
    "        list_label[i] = 0\n",
    "    elif (label == \"FE_AD\"):\n",
    "        list_label[i] = 1\n",
    "    elif (label == \"FE_EL\"):\n",
    "        list_label[i] = 2\n",
    "    elif (label == \"MA_CH\"):\n",
    "        list_label[i] = 3\n",
    "    elif (label == \"MA_AD\"):\n",
    "        list_label[i] = 4\n",
    "    elif (label == \"MA_EL\"):\n",
    "        list_label[i] = 5"
   ]
  },
  {
   "cell_type": "code",
   "execution_count": null,
   "metadata": {},
   "outputs": [],
   "source": [
    "\"\"\"\n",
    "for label in range(num_label):\n",
    "    train_df[\"label{:01}\".format(label)] = list_label[label,:]\n",
    "\"\"\"\n",
    "train_df[\"f0_mean\"] = list_f0_mean\n",
    "train_df[\"f0_std\"] = list_f0_std\n",
    "\n",
    "label_df[\"label\"] = list_label"
   ]
  },
  {
   "cell_type": "code",
   "execution_count": null,
   "metadata": {},
   "outputs": [],
   "source": [
    "# Random Forest\n",
    "\n",
    "random_forest = RandomForestClassifier(n_estimators=100)\n",
    "random_forest.fit(train_df, label_df)\n",
    "# Y_pred = random_forest.predict(X_test)\n",
    "print(round(random_forest.score(train_df, label_df) * 100, 2))"
   ]
  },
  {
   "cell_type": "code",
   "execution_count": null,
   "metadata": {},
   "outputs": [],
   "source": [
    "submit_df = pd.DataFrame()\n",
    "test_df = pd.DataFrame()"
   ]
  },
  {
   "cell_type": "code",
   "execution_count": null,
   "metadata": {},
   "outputs": [],
   "source": [
    "predict_data_dir = os.path.join(data_dir, \"test\")\n",
    "files = os.listdir(predict_data_dir)\n",
    "\n",
    "list_id = []\n",
    "list_label = []\n",
    "\n",
    "pred_df = random_forest.predict(test_df)\n",
    "\n",
    "for i in range(len(files)):\n",
    "    label = pred_df.values[i]\n",
    "    if (label == 0):\n",
    "        list_label.append(\"FE_CH\")\n",
    "    elif (label == 1):\n",
    "        list_label.append(\"FE_AD\")\n",
    "    elif (label == 2):\n",
    "        list_label.append(\"FE_EL\")\n",
    "    elif (label == 3):\n",
    "        list_label.append(\"MA_CH\")\n",
    "    elif (label == 4):\n",
    "        list_label.append(\"MA_AD\")\n",
    "    elif (label == 5):\n",
    "        list_label.append(\"MA_EL\")\n",
    "        \n",
    "submit_df[\"id\"] = list_id\n",
    "submit_df[\"label\"] = list_label"
   ]
  },
  {
   "cell_type": "code",
   "execution_count": null,
   "metadata": {},
   "outputs": [],
   "source": [
    "submit_df.tail()"
   ]
  },
  {
   "cell_type": "code",
   "execution_count": null,
   "metadata": {},
   "outputs": [],
   "source": [
    "submit_df.to_csv(os.path.join(data_dir, \"submit.tsv\"), sep='\\t', header=False, index=False)"
   ]
  },
  {
   "cell_type": "code",
   "execution_count": null,
   "metadata": {},
   "outputs": [],
   "source": []
  },
  {
   "cell_type": "code",
   "execution_count": null,
   "metadata": {},
   "outputs": [],
   "source": [
    "wav, _ = librosa.load(os.path.join(data_dir, \"train/fff371f8fd363481780cf71abadd3912.wav\"), sr = sampling_rate, mono = True)\n",
    "wav = librosa.util.normalize(wav, norm=np.inf, axis=None)\n",
    "wav = wav_padding(wav = wav, sr = sampling_rate, frame_period = frame_period, multiple = 4)\n",
    "f0, timeaxis, sp, ap, mc = world_decompose(wav = wav, fs = sampling_rate, frame_period = frame_period, num_mcep = num_mcep)\n",
    "f0_mean = np.mean(np.nonzero(f0))/300."
   ]
  },
  {
   "cell_type": "code",
   "execution_count": null,
   "metadata": {},
   "outputs": [],
   "source": [
    "f0"
   ]
  },
  {
   "cell_type": "code",
   "execution_count": null,
   "metadata": {},
   "outputs": [],
   "source": [
    "f0_mean"
   ]
  },
  {
   "cell_type": "code",
   "execution_count": null,
   "metadata": {},
   "outputs": [],
   "source": [
    "np.std(np.nonzero(f0))/300."
   ]
  },
  {
   "cell_type": "code",
   "execution_count": null,
   "metadata": {},
   "outputs": [],
   "source": [
    "import matplotlib.pyplot as plt\n",
    "plt.hist(np.histogram(mc))"
   ]
  }
 ],
 "metadata": {
  "kernelspec": {
   "display_name": "Python 3",
   "language": "python",
   "name": "python3"
  },
  "language_info": {
   "codemirror_mode": {
    "name": "ipython",
    "version": 3
   },
   "file_extension": ".py",
   "mimetype": "text/x-python",
   "name": "python",
   "nbconvert_exporter": "python",
   "pygments_lexer": "ipython3",
   "version": "3.6.5"
  }
 },
 "nbformat": 4,
 "nbformat_minor": 2
}
