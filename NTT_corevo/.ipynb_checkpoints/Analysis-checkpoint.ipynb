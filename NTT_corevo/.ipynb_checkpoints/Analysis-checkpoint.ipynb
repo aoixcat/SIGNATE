{
 "cells": [
  {
   "cell_type": "markdown",
   "metadata": {},
   "source": [
    "## Plan\n",
    "- create model\n",
    "    - male or female\n",
    "    - CH, AD, EL\n",
    "- extract additive infomation\n",
    "    - length\n",
    "    - sceptrum infomation"
   ]
  },
  {
   "cell_type": "code",
   "execution_count": 1,
   "metadata": {},
   "outputs": [],
   "source": [
    "import os \n",
    "import numpy as np\n",
    "import pandas as pd\n",
    "import librosa\n",
    "import pyworld\n",
    "import time\n",
    "import shutil\n",
    "import matplotlib.pyplot as plt\n",
    "\n",
    "from tools import *\n",
    "from model import *\n",
    "\n",
    "import torch\n",
    "import torch.nn as nn\n",
    "import torchvision.datasets as dsets\n",
    "import torchvision.transforms as transforms\n",
    "from torch.autograd import Variable"
   ]
  },
  {
   "cell_type": "code",
   "execution_count": 2,
   "metadata": {},
   "outputs": [],
   "source": [
    "seed_value = 0\n",
    "np.random.seed(seed_value)\n",
    "torch.manual_seed(seed_value)"
   ]
  },
  {
   "cell_type": "code",
   "execution_count": 3,
   "metadata": {},
   "outputs": [],
   "source": [
    "data_dir = \"../data/NTT_corevo\""
   ]
  },
  {
   "cell_type": "code",
   "execution_count": 4,
   "metadata": {},
   "outputs": [],
   "source": [
    "class_train = pd.read_csv(os.path.join(data_dir, \"class_train.tsv\"), delimiter='\\t', header=None)\n",
    "sample_submit = pd.read_csv(os.path.join(data_dir, \"class_train.tsv\"), delimiter='\\t', header=None)"
   ]
  },
  {
   "cell_type": "code",
   "execution_count": 5,
   "metadata": {},
   "outputs": [
    {
     "data": {
      "text/html": [
       "<div>\n",
       "<style scoped>\n",
       "    .dataframe tbody tr th:only-of-type {\n",
       "        vertical-align: middle;\n",
       "    }\n",
       "\n",
       "    .dataframe tbody tr th {\n",
       "        vertical-align: top;\n",
       "    }\n",
       "\n",
       "    .dataframe thead th {\n",
       "        text-align: right;\n",
       "    }\n",
       "</style>\n",
       "<table border=\"1\" class=\"dataframe\">\n",
       "  <thead>\n",
       "    <tr style=\"text-align: right;\">\n",
       "      <th></th>\n",
       "      <th>0</th>\n",
       "      <th>1</th>\n",
       "    </tr>\n",
       "  </thead>\n",
       "  <tbody>\n",
       "    <tr>\n",
       "      <th>0</th>\n",
       "      <td>0002f1cd968ca78ada9e1c7037224773</td>\n",
       "      <td>MA_CH</td>\n",
       "    </tr>\n",
       "    <tr>\n",
       "      <th>1</th>\n",
       "      <td>0003747ec9268461d4cbb9e1b86e9663</td>\n",
       "      <td>FE_AD</td>\n",
       "    </tr>\n",
       "    <tr>\n",
       "      <th>2</th>\n",
       "      <td>0003b32f378b001f0f73bf0981da8773</td>\n",
       "      <td>MA_CH</td>\n",
       "    </tr>\n",
       "    <tr>\n",
       "      <th>3</th>\n",
       "      <td>0004ab975bf8b59e1b19f2b7b6d1548b</td>\n",
       "      <td>MA_CH</td>\n",
       "    </tr>\n",
       "    <tr>\n",
       "      <th>4</th>\n",
       "      <td>0005678b57ca265a65f8ef0cc7481277</td>\n",
       "      <td>MA_AD</td>\n",
       "    </tr>\n",
       "  </tbody>\n",
       "</table>\n",
       "</div>"
      ],
      "text/plain": [
       "                                  0      1\n",
       "0  0002f1cd968ca78ada9e1c7037224773  MA_CH\n",
       "1  0003747ec9268461d4cbb9e1b86e9663  FE_AD\n",
       "2  0003b32f378b001f0f73bf0981da8773  MA_CH\n",
       "3  0004ab975bf8b59e1b19f2b7b6d1548b  MA_CH\n",
       "4  0005678b57ca265a65f8ef0cc7481277  MA_AD"
      ]
     },
     "execution_count": 5,
     "metadata": {},
     "output_type": "execute_result"
    }
   ],
   "source": [
    "class_train.head()"
   ]
  },
  {
   "cell_type": "code",
   "execution_count": 6,
   "metadata": {},
   "outputs": [
    {
     "data": {
      "text/html": [
       "<div>\n",
       "<style scoped>\n",
       "    .dataframe tbody tr th:only-of-type {\n",
       "        vertical-align: middle;\n",
       "    }\n",
       "\n",
       "    .dataframe tbody tr th {\n",
       "        vertical-align: top;\n",
       "    }\n",
       "\n",
       "    .dataframe thead th {\n",
       "        text-align: right;\n",
       "    }\n",
       "</style>\n",
       "<table border=\"1\" class=\"dataframe\">\n",
       "  <thead>\n",
       "    <tr style=\"text-align: right;\">\n",
       "      <th></th>\n",
       "      <th>0</th>\n",
       "      <th>1</th>\n",
       "    </tr>\n",
       "  </thead>\n",
       "  <tbody>\n",
       "    <tr>\n",
       "      <th>37801</th>\n",
       "      <td>fff371f8fd363481780cf71abadd3912</td>\n",
       "      <td>FE_EL</td>\n",
       "    </tr>\n",
       "    <tr>\n",
       "      <th>37802</th>\n",
       "      <td>fffad7d70023ac8019976bfc7d9ba36d</td>\n",
       "      <td>MA_EL</td>\n",
       "    </tr>\n",
       "    <tr>\n",
       "      <th>37803</th>\n",
       "      <td>fffb68964f56e10022d62feba2e538d3</td>\n",
       "      <td>FE_AD</td>\n",
       "    </tr>\n",
       "    <tr>\n",
       "      <th>37804</th>\n",
       "      <td>fffdd34e46338d68f3eb7081b2c7f069</td>\n",
       "      <td>FE_AD</td>\n",
       "    </tr>\n",
       "    <tr>\n",
       "      <th>37805</th>\n",
       "      <td>ffff83dd1058ef7fd97151be4d61651f</td>\n",
       "      <td>MA_AD</td>\n",
       "    </tr>\n",
       "  </tbody>\n",
       "</table>\n",
       "</div>"
      ],
      "text/plain": [
       "                                      0      1\n",
       "37801  fff371f8fd363481780cf71abadd3912  FE_EL\n",
       "37802  fffad7d70023ac8019976bfc7d9ba36d  MA_EL\n",
       "37803  fffb68964f56e10022d62feba2e538d3  FE_AD\n",
       "37804  fffdd34e46338d68f3eb7081b2c7f069  FE_AD\n",
       "37805  ffff83dd1058ef7fd97151be4d61651f  MA_AD"
      ]
     },
     "execution_count": 6,
     "metadata": {},
     "output_type": "execute_result"
    }
   ],
   "source": [
    "sample_submit.tail()"
   ]
  },
  {
   "cell_type": "code",
   "execution_count": 7,
   "metadata": {},
   "outputs": [
    {
     "data": {
      "text/html": [
       "<div>\n",
       "<style scoped>\n",
       "    .dataframe tbody tr th:only-of-type {\n",
       "        vertical-align: middle;\n",
       "    }\n",
       "\n",
       "    .dataframe tbody tr th {\n",
       "        vertical-align: top;\n",
       "    }\n",
       "\n",
       "    .dataframe thead th {\n",
       "        text-align: right;\n",
       "    }\n",
       "</style>\n",
       "<table border=\"1\" class=\"dataframe\">\n",
       "  <thead>\n",
       "    <tr style=\"text-align: right;\">\n",
       "      <th></th>\n",
       "      <th>0</th>\n",
       "      <th>1</th>\n",
       "    </tr>\n",
       "  </thead>\n",
       "  <tbody>\n",
       "    <tr>\n",
       "      <th>37801</th>\n",
       "      <td>fff371f8fd363481780cf71abadd3912</td>\n",
       "      <td>FE_EL</td>\n",
       "    </tr>\n",
       "  </tbody>\n",
       "</table>\n",
       "</div>"
      ],
      "text/plain": [
       "                                      0      1\n",
       "37801  fff371f8fd363481780cf71abadd3912  FE_EL"
      ]
     },
     "execution_count": 7,
     "metadata": {},
     "output_type": "execute_result"
    }
   ],
   "source": [
    "class_train[class_train[0] == \"fff371f8fd363481780cf71abadd3912\"]"
   ]
  },
  {
   "cell_type": "code",
   "execution_count": 8,
   "metadata": {},
   "outputs": [],
   "source": [
    "train_data_dir = os.path.join(data_dir, \"train\")\n",
    "files = os.listdir(train_data_dir)\n",
    "\n",
    "if (False):\n",
    "    if not os.path.exists(os.path.join(data_dir, \"labeled/00/\")):\n",
    "        os.makedirs(os.path.join(data_dir, \"labeled/00/\"))\n",
    "    if not os.path.exists(os.path.join(data_dir, \"labeled/01/\")):\n",
    "        os.makedirs(os.path.join(data_dir, \"labeled/01/\"))\n",
    "    if not os.path.exists(os.path.join(data_dir, \"labeled/02/\")):\n",
    "        os.makedirs(os.path.join(data_dir, \"labeled/02/\"))\n",
    "    if not os.path.exists(os.path.join(data_dir, \"labeled/03/\")):\n",
    "        os.makedirs(os.path.join(data_dir, \"labeled/03/\"))\n",
    "    if not os.path.exists(os.path.join(data_dir, \"labeled/04/\")):\n",
    "        os.makedirs(os.path.join(data_dir, \"labeled/04/\"))\n",
    "    if not os.path.exists(os.path.join(data_dir, \"labeled/05/\")):\n",
    "        os.makedirs(os.path.join(data_dir, \"labeled/05/\"))\n",
    "    for file in files:\n",
    "        file_id = file[:-4]\n",
    "        label = class_train[class_train[0] == file_id].values[0,1]\n",
    "        if (label == \"FE_CH\"):\n",
    "            shutil.copy(os.path.join(train_data_dir, file), os.path.join(data_dir, \"labeled/00/\" + file))\n",
    "        elif (label == \"FE_AD\"):\n",
    "            shutil.copy(os.path.join(train_data_dir, file), os.path.join(data_dir, \"labeled/01/\" + file))\n",
    "        elif (label == \"FE_EL\"):\n",
    "            shutil.copy(os.path.join(train_data_dir, file), os.path.join(data_dir, \"labeled/02/\" + file))\n",
    "        elif (label == \"MA_CH\"):\n",
    "            shutil.copy(os.path.join(train_data_dir, file), os.path.join(data_dir, \"labeled/03/\" + file))\n",
    "        elif (label == \"MA_AD\"):\n",
    "            shutil.copy(os.path.join(train_data_dir, file), os.path.join(data_dir, \"labeled/04/\" + file))\n",
    "        elif (label == \"MA_EL\"):\n",
    "            shutil.copy(os.path.join(train_data_dir, file), os.path.join(data_dir, \"labeled/05/\" + file))\n",
    "\n",
    "label_num = np.zeros((6,))\n",
    "for i in range(6):\n",
    "    label_num[i] = len(os.listdir(os.path.join(data_dir, \"labeled/0\" + str(i))))"
   ]
  },
  {
   "cell_type": "markdown",
   "metadata": {},
   "source": [
    "## Labels\n",
    "- 0: female child\n",
    "- 1: female adult\n",
    "- 2: female elder\n",
    "- 3: male child\n",
    "- 4: male adult\n",
    "- 5: male elder"
   ]
  },
  {
   "cell_type": "code",
   "execution_count": 9,
   "metadata": {},
   "outputs": [
    {
     "name": "stderr",
     "output_type": "stream",
     "text": [
      "/home/takiguchi/anaconda3/lib/python3.6/site-packages/matplotlib/figure.py:418: UserWarning: matplotlib is currently using a non-GUI backend, so cannot show the figure\n",
      "  \"matplotlib is currently using a non-GUI backend, \"\n"
     ]
    },
    {
     "data": {
      "image/png": "[encoded data removed]",
      "text/plain": [
       "<matplotlib.figure.Figure at 0x7f1eb208d278>"
      ]
     },
     "metadata": {},
     "output_type": "display_data"
    }
   ],
   "source": [
    "fig = plt.figure()\n",
    "ax = fig.add_subplot(1,1,1)\n",
    "ax.plot(label_num)\n",
    "ax.set_xlim(0,5)\n",
    "ax.set_ylim(0, 8000)\n",
    "fig.show()"
   ]
  },
  {
   "cell_type": "code",
   "execution_count": 10,
   "metadata": {},
   "outputs": [],
   "source": [
    "sampling_rate = 16000\n",
    "num_mcep = 36\n",
    "frame_period = 5.0\n",
    "n_frames = 1024\n",
    "label_num = 6"
   ]
  },
  {
   "cell_type": "code",
   "execution_count": 11,
   "metadata": {},
   "outputs": [],
   "source": [
    "def data_load(batch_size = 1, label = -1):\n",
    "    data_list = []\n",
    "    label_list = []\n",
    "    \n",
    "    if (label == -1):\n",
    "        random_label = True \n",
    "    else:\n",
    "        random_label =  False\n",
    "        \n",
    "    for i in range(batch_size):\n",
    "        \n",
    "        if random_label :\n",
    "            label = np.random.randint(0, label_num)\n",
    "            \n",
    "        sample_data_dir = os.path.join(data_dir, \"labeled/{:02}\".format(label))\n",
    "        file = np.random.choice(os.listdir(sample_data_dir))\n",
    "        \n",
    "        frames = 0\n",
    "        count = 0\n",
    "        while frames < n_frames:\n",
    "\n",
    "            wav, _ = librosa.load(os.path.join(sample_data_dir, file), sr = sampling_rate, mono = True)\n",
    "            wav = librosa.util.normalize(wav, norm=np.inf, axis=None)\n",
    "            wav = wav_padding(wav = wav, sr = sampling_rate, frame_period = frame_period, multiple = 4)\n",
    "            f0, timeaxis, sp, ap, mc = world_decompose(wav = wav, fs = sampling_rate, frame_period = frame_period, num_mcep = num_mcep)\n",
    "\n",
    "            if (count == 0):\n",
    "                mc_transposed = np.array(mc).T\n",
    "            else:\n",
    "                mc_transposed = np.concatenate([mc_transposed, np.array(mc).T], axis =1)\n",
    "            frames = np.shape(mc_transposed)[1]\n",
    "\n",
    "            mean = np.mean(mc_transposed)\n",
    "            std = np.std(mc_transposed)\n",
    "            mc_norm = (mc_transposed - mean)/std\n",
    "\n",
    "            print(frames)\n",
    "            \n",
    "            count += 1\n",
    "\n",
    "        start_ = np.random.randint(frames - n_frames + 1)\n",
    "        end_ = start_ + n_frames\n",
    "\n",
    "        data_list.append(mc_norm[:,start_:end_])\n",
    "        label_list.append(label)\n",
    "\n",
    "    return torch.Tensor(data_list).view(batch_size, 1, num_mcep, n_frames), torch.Tensor(label_list).view(batch_size, 1)\n"
   ]
  },
  {
   "cell_type": "code",
   "execution_count": 12,
   "metadata": {},
   "outputs": [
    {
     "name": "stdout",
     "output_type": "stream",
     "text": [
      "288\n",
      "576\n",
      "864\n",
      "1152\n",
      "960\n",
      "1920\n",
      "512\n",
      "1024\n",
      "512\n",
      "1024\n"
     ]
    }
   ],
   "source": [
    "a, b = data_load(batch_size=4, label=-1)"
   ]
  },
  {
   "cell_type": "code",
   "execution_count": 13,
   "metadata": {},
   "outputs": [
    {
     "name": "stdout",
     "output_type": "stream",
     "text": [
      "torch.Size([4, 1, 36, 1024])\n",
      "torch.Size([4, 1])\n",
      "tensor([[4.],\n",
      "        [0.],\n",
      "        [3.],\n",
      "        [1.]])\n"
     ]
    }
   ],
   "source": [
    "print(a.shape)\n",
    "print(b.shape)\n",
    "print(b)"
   ]
  },
  {
   "cell_type": "code",
   "execution_count": 14,
   "metadata": {},
   "outputs": [],
   "source": [
    "model_dir_vae = \"../model/NTT_corevo/VAE\"\n",
    "model_name_vae = \"VAE_lr3_e10000_b4\"\n",
    "\n",
    "def model_load_VAE(model_dir, model_name):\n",
    "    model = VAE()\n",
    "    model.load_state_dict(torch.load(os.path.join(model_dir, model_name)))\n",
    "    return model\n",
    "    \n",
    "model_dir_classifier = \"../model/NTT_corevo/Classifier\"\n",
    "model_name_classifier = [\n",
    "    \"Classifier_lr3_e10000_b4_label0\",\n",
    "    \"Classifier_lr3_e10000_b4_label1\",\n",
    "    \"Classifier_lr3_e10000_b4_label2\",\n",
    "    \"Classifier_lr3_e10000_b4_label3\",\n",
    "    \"Classifier_lr3_e10000_b4_label4\",\n",
    "    \"Classifier_lr3_e10000_b4_label5\"\n",
    "]\n",
    "\n",
    "def model_load(label):\n",
    "    model = Classifier()\n",
    "    model.load_state_dict(torch.load(os.path.join(model_dir_classifier, model_name_classifier[label])))\n",
    "    return model"
   ]
  },
  {
   "cell_type": "code",
   "execution_count": null,
   "metadata": {},
   "outputs": [],
   "source": []
  }
 ],
 "metadata": {
  "kernelspec": {
   "display_name": "Python 3",
   "language": "python",
   "name": "python3"
  },
  "language_info": {
   "codemirror_mode": {
    "name": "ipython",
    "version": 3
   },
   "file_extension": ".py",
   "mimetype": "text/x-python",
   "name": "python",
   "nbconvert_exporter": "python",
   "pygments_lexer": "ipython3",
   "version": "3.6.4"
  }
 },
 "nbformat": 4,
 "nbformat_minor": 2
}
