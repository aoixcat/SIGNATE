{
 "cells": [
  {
   "cell_type": "markdown",
   "metadata": {},
   "source": [
    "## Plan\n",
    "- create model\n",
    "    - male or female\n",
    "    - CH, AD, EL\n",
    "- extract additive infomation\n",
    "    - length\n",
    "    - sceptrum infomation"
   ]
  },
  {
   "cell_type": "code",
   "execution_count": 1,
   "metadata": {},
   "outputs": [],
   "source": [
    "import os \n",
    "import numpy as np\n",
    "import pandas as pd\n",
    "import librosa\n",
    "import pyworld\n",
    "import time\n",
    "import shutil\n",
    "import matplotlib.pyplot as plt\n",
    "\n",
    "from tools import *\n",
    "from model import *\n",
    "\n",
    "import torch\n",
    "import torch.nn as nn\n",
    "import torchvision.datasets as dsets\n",
    "import torchvision.transforms as transforms\n",
    "from torch.autograd import Variable"
   ]
  },
  {
   "cell_type": "code",
   "execution_count": 2,
   "metadata": {},
   "outputs": [
    {
     "data": {
      "text/plain": [
       "<torch._C.Generator at 0x7f8390600550>"
      ]
     },
     "execution_count": 2,
     "metadata": {},
     "output_type": "execute_result"
    }
   ],
   "source": [
    "seed_value = 0\n",
    "np.random.seed(seed_value)\n",
    "torch.manual_seed(seed_value)"
   ]
  },
  {
   "cell_type": "code",
   "execution_count": 3,
   "metadata": {},
   "outputs": [],
   "source": [
    "data_dir = \"../data/NTT_corevo\""
   ]
  },
  {
   "cell_type": "code",
   "execution_count": 4,
   "metadata": {},
   "outputs": [],
   "source": [
    "class_train = pd.read_csv(os.path.join(data_dir, \"class_train.tsv\"), delimiter='\\t', header=None)\n",
    "sample_submit = pd.read_csv(os.path.join(data_dir, \"class_train.tsv\"), delimiter='\\t', header=None)"
   ]
  },
  {
   "cell_type": "code",
   "execution_count": 5,
   "metadata": {},
   "outputs": [
    {
     "data": {
      "text/html": [
       "<div>\n",
       "<style scoped>\n",
       "    .dataframe tbody tr th:only-of-type {\n",
       "        vertical-align: middle;\n",
       "    }\n",
       "\n",
       "    .dataframe tbody tr th {\n",
       "        vertical-align: top;\n",
       "    }\n",
       "\n",
       "    .dataframe thead th {\n",
       "        text-align: right;\n",
       "    }\n",
       "</style>\n",
       "<table border=\"1\" class=\"dataframe\">\n",
       "  <thead>\n",
       "    <tr style=\"text-align: right;\">\n",
       "      <th></th>\n",
       "      <th>0</th>\n",
       "      <th>1</th>\n",
       "    </tr>\n",
       "  </thead>\n",
       "  <tbody>\n",
       "    <tr>\n",
       "      <th>37801</th>\n",
       "      <td>fff371f8fd363481780cf71abadd3912</td>\n",
       "      <td>FE_EL</td>\n",
       "    </tr>\n",
       "    <tr>\n",
       "      <th>37802</th>\n",
       "      <td>fffad7d70023ac8019976bfc7d9ba36d</td>\n",
       "      <td>MA_EL</td>\n",
       "    </tr>\n",
       "    <tr>\n",
       "      <th>37803</th>\n",
       "      <td>fffb68964f56e10022d62feba2e538d3</td>\n",
       "      <td>FE_AD</td>\n",
       "    </tr>\n",
       "    <tr>\n",
       "      <th>37804</th>\n",
       "      <td>fffdd34e46338d68f3eb7081b2c7f069</td>\n",
       "      <td>FE_AD</td>\n",
       "    </tr>\n",
       "    <tr>\n",
       "      <th>37805</th>\n",
       "      <td>ffff83dd1058ef7fd97151be4d61651f</td>\n",
       "      <td>MA_AD</td>\n",
       "    </tr>\n",
       "  </tbody>\n",
       "</table>\n",
       "</div>"
      ],
      "text/plain": [
       "                                      0      1\n",
       "37801  fff371f8fd363481780cf71abadd3912  FE_EL\n",
       "37802  fffad7d70023ac8019976bfc7d9ba36d  MA_EL\n",
       "37803  fffb68964f56e10022d62feba2e538d3  FE_AD\n",
       "37804  fffdd34e46338d68f3eb7081b2c7f069  FE_AD\n",
       "37805  ffff83dd1058ef7fd97151be4d61651f  MA_AD"
      ]
     },
     "execution_count": 5,
     "metadata": {},
     "output_type": "execute_result"
    }
   ],
   "source": [
    "class_train.tail()"
   ]
  },
  {
   "cell_type": "code",
   "execution_count": 6,
   "metadata": {},
   "outputs": [
    {
     "data": {
      "text/html": [
       "<div>\n",
       "<style scoped>\n",
       "    .dataframe tbody tr th:only-of-type {\n",
       "        vertical-align: middle;\n",
       "    }\n",
       "\n",
       "    .dataframe tbody tr th {\n",
       "        vertical-align: top;\n",
       "    }\n",
       "\n",
       "    .dataframe thead th {\n",
       "        text-align: right;\n",
       "    }\n",
       "</style>\n",
       "<table border=\"1\" class=\"dataframe\">\n",
       "  <thead>\n",
       "    <tr style=\"text-align: right;\">\n",
       "      <th></th>\n",
       "      <th>0</th>\n",
       "      <th>1</th>\n",
       "    </tr>\n",
       "  </thead>\n",
       "  <tbody>\n",
       "    <tr>\n",
       "      <th>0</th>\n",
       "      <td>0002f1cd968ca78ada9e1c7037224773</td>\n",
       "      <td>MA_CH</td>\n",
       "    </tr>\n",
       "    <tr>\n",
       "      <th>1</th>\n",
       "      <td>0003747ec9268461d4cbb9e1b86e9663</td>\n",
       "      <td>FE_AD</td>\n",
       "    </tr>\n",
       "    <tr>\n",
       "      <th>2</th>\n",
       "      <td>0003b32f378b001f0f73bf0981da8773</td>\n",
       "      <td>MA_CH</td>\n",
       "    </tr>\n",
       "    <tr>\n",
       "      <th>3</th>\n",
       "      <td>0004ab975bf8b59e1b19f2b7b6d1548b</td>\n",
       "      <td>MA_CH</td>\n",
       "    </tr>\n",
       "    <tr>\n",
       "      <th>4</th>\n",
       "      <td>0005678b57ca265a65f8ef0cc7481277</td>\n",
       "      <td>MA_AD</td>\n",
       "    </tr>\n",
       "  </tbody>\n",
       "</table>\n",
       "</div>"
      ],
      "text/plain": [
       "                                  0      1\n",
       "0  0002f1cd968ca78ada9e1c7037224773  MA_CH\n",
       "1  0003747ec9268461d4cbb9e1b86e9663  FE_AD\n",
       "2  0003b32f378b001f0f73bf0981da8773  MA_CH\n",
       "3  0004ab975bf8b59e1b19f2b7b6d1548b  MA_CH\n",
       "4  0005678b57ca265a65f8ef0cc7481277  MA_AD"
      ]
     },
     "execution_count": 6,
     "metadata": {},
     "output_type": "execute_result"
    }
   ],
   "source": [
    "sample_submit.head()"
   ]
  },
  {
   "cell_type": "code",
   "execution_count": 7,
   "metadata": {},
   "outputs": [
    {
     "data": {
      "text/html": [
       "<div>\n",
       "<style scoped>\n",
       "    .dataframe tbody tr th:only-of-type {\n",
       "        vertical-align: middle;\n",
       "    }\n",
       "\n",
       "    .dataframe tbody tr th {\n",
       "        vertical-align: top;\n",
       "    }\n",
       "\n",
       "    .dataframe thead th {\n",
       "        text-align: right;\n",
       "    }\n",
       "</style>\n",
       "<table border=\"1\" class=\"dataframe\">\n",
       "  <thead>\n",
       "    <tr style=\"text-align: right;\">\n",
       "      <th></th>\n",
       "      <th>0</th>\n",
       "      <th>1</th>\n",
       "    </tr>\n",
       "  </thead>\n",
       "  <tbody>\n",
       "    <tr>\n",
       "      <th>37801</th>\n",
       "      <td>fff371f8fd363481780cf71abadd3912</td>\n",
       "      <td>FE_EL</td>\n",
       "    </tr>\n",
       "  </tbody>\n",
       "</table>\n",
       "</div>"
      ],
      "text/plain": [
       "                                      0      1\n",
       "37801  fff371f8fd363481780cf71abadd3912  FE_EL"
      ]
     },
     "execution_count": 7,
     "metadata": {},
     "output_type": "execute_result"
    }
   ],
   "source": [
    "class_train[class_train[0] == \"fff371f8fd363481780cf71abadd3912\"]"
   ]
  },
  {
   "cell_type": "code",
   "execution_count": 8,
   "metadata": {},
   "outputs": [],
   "source": [
    "train_data_dir = os.path.join(data_dir, \"train\")\n",
    "files = os.listdir(train_data_dir)\n",
    "list_label = []\n",
    "\n",
    "if (False):\n",
    "    if not os.path.exists(os.path.join(data_dir, \"labeled/00/\")):\n",
    "        os.makedirs(os.path.join(data_dir, \"labeled/00/\"))\n",
    "    if not os.path.exists(os.path.join(data_dir, \"labeled/01/\")):\n",
    "        os.makedirs(os.path.join(data_dir, \"labeled/01/\"))\n",
    "    if not os.path.exists(os.path.join(data_dir, \"labeled/02/\")):\n",
    "        os.makedirs(os.path.join(data_dir, \"labeled/02/\"))\n",
    "    if not os.path.exists(os.path.join(data_dir, \"labeled/03/\")):\n",
    "        os.makedirs(os.path.join(data_dir, \"labeled/03/\"))\n",
    "    if not os.path.exists(os.path.join(data_dir, \"labeled/04/\")):\n",
    "        os.makedirs(os.path.join(data_dir, \"labeled/04/\"))\n",
    "    if not os.path.exists(os.path.join(data_dir, \"labeled/05/\")):\n",
    "        os.makedirs(os.path.join(data_dir, \"labeled/05/\"))\n",
    "    for file in files:\n",
    "        file_id = file[:-4]\n",
    "        label = class_train[class_train[0] == file_id].values[0,1]\n",
    "        if (label == \"FE_CH\"):\n",
    "            shutil.copy(os.path.join(train_data_dir, file), os.path.join(data_dir, \"labeled/00/\" + file))\n",
    "        elif (label == \"FE_AD\"):\n",
    "            shutil.copy(os.path.join(train_data_dir, file), os.path.join(data_dir, \"labeled/01/\" + file))\n",
    "        elif (label == \"FE_EL\"):\n",
    "            shutil.copy(os.path.join(train_data_dir, file), os.path.join(data_dir, \"labeled/02/\" + file))\n",
    "        elif (label == \"MA_CH\"):\n",
    "            shutil.copy(os.path.join(train_data_dir, file), os.path.join(data_dir, \"labeled/03/\" + file))\n",
    "        elif (label == \"MA_AD\"):\n",
    "            shutil.copy(os.path.join(train_data_dir, file), os.path.join(data_dir, \"labeled/04/\" + file))\n",
    "        elif (label == \"MA_EL\"):\n",
    "            shutil.copy(os.path.join(train_data_dir, file), os.path.join(data_dir, \"labeled/05/\" + file))\n",
    "\n",
    "labels_num = np.zeros((6,))\n",
    "for i in range(6):\n",
    "    labels_num[i] = len(os.listdir(os.path.join(data_dir, \"labeled/0\" + str(i))))"
   ]
  },
  {
   "cell_type": "markdown",
   "metadata": {},
   "source": [
    "## Labels\n",
    "- 0: female child\n",
    "- 1: female adult\n",
    "- 2: female elder\n",
    "- 3: male child\n",
    "- 4: male adult\n",
    "- 5: male elder"
   ]
  },
  {
   "cell_type": "code",
   "execution_count": 9,
   "metadata": {},
   "outputs": [
    {
     "name": "stderr",
     "output_type": "stream",
     "text": [
      "/home/takiguchi/anaconda3/lib/python3.6/site-packages/matplotlib/figure.py:418: UserWarning: matplotlib is currently using a non-GUI backend, so cannot show the figure\n",
      "  \"matplotlib is currently using a non-GUI backend, \"\n"
     ]
    },
    {
     "data": {
      "image/png": "[encoded data removed]",
      "text/plain": [
       "<matplotlib.figure.Figure at 0x7f838f0072b0>"
      ]
     },
     "metadata": {},
     "output_type": "display_data"
    }
   ],
   "source": [
    "fig = plt.figure()\n",
    "ax = fig.add_subplot(1,1,1)\n",
    "ax.plot(labels_num)\n",
    "ax.set_xlim(0,5)\n",
    "ax.set_ylim(0, 8000)\n",
    "fig.show()"
   ]
  },
  {
   "cell_type": "code",
   "execution_count": 10,
   "metadata": {},
   "outputs": [],
   "source": [
    "sampling_rate = 16000\n",
    "num_mcep = 36\n",
    "frame_period = 5.0\n",
    "n_frames = 1024\n",
    "num_label = 6"
   ]
  },
  {
   "cell_type": "code",
   "execution_count": 11,
   "metadata": {},
   "outputs": [],
   "source": [
    "def data_load(batch_size = 1, label = -1, path=\"\"):\n",
    "    data_list = []\n",
    "    label_list = []\n",
    "    \n",
    "    if (label == -1):\n",
    "        random_label = True \n",
    "    else:\n",
    "        random_label =  False\n",
    "        \n",
    "    for i in range(batch_size):\n",
    "        \n",
    "        if random_label :\n",
    "            label = np.random.randint(0, num_label)\n",
    "        \n",
    "        if path == \"\":\n",
    "            sample_data_dir = os.path.join(data_dir, \"labeled/{:02}\".format(label))\n",
    "            file = np.random.choice(os.listdir(sample_data_dir))\n",
    "        else:\n",
    "            sample_data_dir = \"./\"\n",
    "            file = path\n",
    "        \n",
    "        frames = 0\n",
    "        count = 0\n",
    "        while frames < n_frames:\n",
    "\n",
    "            wav, _ = librosa.load(os.path.join(sample_data_dir, file), sr = sampling_rate, mono = True)\n",
    "            wav = librosa.util.normalize(wav, norm=np.inf, axis=None)\n",
    "            wav = wav_padding(wav = wav, sr = sampling_rate, frame_period = frame_period, multiple = 4)\n",
    "            f0, timeaxis, sp, ap, mc = world_decompose(wav = wav, fs = sampling_rate, frame_period = frame_period, num_mcep = num_mcep)\n",
    "\n",
    "            if (count == 0):\n",
    "                mc_transposed = np.array(mc).T\n",
    "            else:\n",
    "                mc_transposed = np.concatenate([mc_transposed, np.array(mc).T], axis =1)\n",
    "            frames = np.shape(mc_transposed)[1]\n",
    "\n",
    "            mean = np.mean(mc_transposed)\n",
    "            std = np.std(mc_transposed)\n",
    "            mc_norm = (mc_transposed - mean)/std\n",
    "\n",
    "            count += 1\n",
    "\n",
    "        start_ = np.random.randint(frames - n_frames + 1)\n",
    "        end_ = start_ + n_frames\n",
    "\n",
    "        data_list.append(mc_norm[:,start_:end_])\n",
    "        label_list.append(label)\n",
    "\n",
    "    return torch.Tensor(data_list).view(batch_size, 1, num_mcep, n_frames), torch.Tensor(label_list).view(batch_size, 1)\n"
   ]
  },
  {
   "cell_type": "code",
   "execution_count": 12,
   "metadata": {},
   "outputs": [],
   "source": [
    "a, b = data_load(batch_size=4, label=-1)"
   ]
  },
  {
   "cell_type": "code",
   "execution_count": 13,
   "metadata": {},
   "outputs": [
    {
     "name": "stdout",
     "output_type": "stream",
     "text": [
      "torch.Size([4, 1, 36, 1024])\n",
      "torch.Size([4, 1])\n",
      "tensor([[4.],\n",
      "        [0.],\n",
      "        [3.],\n",
      "        [1.]])\n"
     ]
    }
   ],
   "source": [
    "print(a.shape)\n",
    "print(b.shape)\n",
    "print(b)"
   ]
  },
  {
   "cell_type": "code",
   "execution_count": 14,
   "metadata": {},
   "outputs": [],
   "source": [
    "model_dir_vae = \"../model/NTT_corevo/VAE\"\n",
    "model_name_vae = \"VAE_lr3_e10000_b4\"\n",
    "\n",
    "def model_load_VAE():\n",
    "    model = VAE()\n",
    "    model.load_state_dict(torch.load(os.path.join(model_dir_vae, model_name_vae)))\n",
    "    return model\n",
    "    \n",
    "model_dir_classifier = \"../model/NTT_corevo/Classifier\"\n",
    "model_name_classifier = [\n",
    "    \"Classifier_lr3_e10000_b4_label0\",\n",
    "    \"Classifier_lr3_e10000_b4_label1\",\n",
    "    \"Classifier_lr3_e10000_b4_label2\",\n",
    "    \"Classifier_lr3_e10000_b4_label3\",\n",
    "    \"Classifier_lr3_e10000_b4_label4\",\n",
    "    \"Classifier_lr3_e10000_b4_label5\"\n",
    "]\n",
    "\n",
    "def model_load_classifier(label):\n",
    "    model = Classifier()\n",
    "    model.load_state_dict(torch.load(os.path.join(model_dir_classifier, model_name_classifier[label])))\n",
    "    return model"
   ]
  },
  {
   "cell_type": "code",
   "execution_count": 15,
   "metadata": {},
   "outputs": [],
   "source": [
    "train_df = pd.DataFrame()\n",
    "test_df = pd.DataFrame()"
   ]
  },
  {
   "cell_type": "code",
   "execution_count": null,
   "metadata": {},
   "outputs": [],
   "source": [
    "a, b = class_train.values[0]"
   ]
  },
  {
   "cell_type": "code",
   "execution_count": null,
   "metadata": {},
   "outputs": [
    {
     "name": "stdout",
     "output_type": "stream",
     "text": [
      "Label  :  0 ,  0%\n"
     ]
    }
   ],
   "source": [
    "num_data = len(files)\n",
    "\n",
    "list_label = np.zeros((num_label, num_data))\n",
    "list_child = np.zeros((num_data))\n",
    "list_adult = np.zeros((num_data))\n",
    "list_elder = np.zeros((num_data))\n",
    "list_male = np.zeros((num_data))\n",
    "list_female = np.zeros((num_data))\n",
    "list_length = np.zeros((num_data))\n",
    "list_f0_mean = np.zeros((num_data))\n",
    "list_f0_std = np.zeros((num_data))\n",
    "\n",
    "model_vae = model_load_VAE()\n",
    "for label in range(num_label):\n",
    "    model_classifier = model_load_classifier(label)\n",
    "    for i in range(num_data):\n",
    "        if ((i+1)%100==0):\n",
    "            print(\"Label  {} : {}%\".format(label, i*100//num_data))\n",
    "        file, _ = class_train.values[i]\n",
    "        x_, _ = data_load(path=os.path.join(data_dir, \"train/\"+file+\".wav\"))\n",
    "        z_ = model_vae.predict(x_)\n",
    "        list_label[0, i] = model_classifier.predict(z_).data.cpu().numpy().reshape(2,)[0]\n",
    "\n",
    "for i in range(num_data):\n",
    "    wav, _ = librosa.load(os.path.join(data_dir, \"train/\"+file+\".wav\"), sr = sampling_rate, mono = True)\n",
    "    wav = librosa.util.normalize(wav, norm=np.inf, axis=None)\n",
    "    wav = wav_padding(wav = wav, sr = sampling_rate, frame_period = frame_period, multiple = 4)\n",
    "    f0, timeaxis, sp, ap, mc = world_decompose(wav = wav, fs = sampling_rate, frame_period = frame_period, num_mcep = num_mcep)\n",
    "    f0_mean = np.mean(np.nonzero(f0))/300.\n",
    "    f0_std = np.std(np.nonzero(f0))/300.\n",
    "    list_f0_mean[i] = f0_mean\n",
    "    list_f0_std[i] = f0_std"
   ]
  },
  {
   "cell_type": "code",
   "execution_count": null,
   "metadata": {},
   "outputs": [],
   "source": [
    "for label in range(num_label):\n",
    "    train_df[\"label{:01}\".format(label)] = list_label[label,:]\n",
    "train_df[\"f0_mean\"] = list_f0_mean\n",
    "train_df[\"f0_std\"] = list_f0_std\n"
   ]
  },
  {
   "cell_type": "code",
   "execution_count": null,
   "metadata": {},
   "outputs": [],
   "source": [
    "submit_df = pd.DataFrame()"
   ]
  },
  {
   "cell_type": "code",
   "execution_count": null,
   "metadata": {},
   "outputs": [],
   "source": [
    "predict_data_dir = os.path.join(data_dir, \"test\")\n",
    "files = os.listdir(predict_data_dir)\n",
    "\n",
    "list_id = []\n",
    "list_label = []\n",
    "for file in files:\n",
    "    list_id.append(file[:-4])\n",
    "    label = np.random.randint(0,6)\n",
    "    if (label == 0):\n",
    "        list_label.append(\"FE_CH\")\n",
    "    elif (label == 1):\n",
    "        list_label.append(\"FE_AD\")\n",
    "    elif (label == 2):\n",
    "        list_label.append(\"FE_EL\")\n",
    "    elif (label == 3):\n",
    "        list_label.append(\"MA_CH\")\n",
    "    elif (label == 4):\n",
    "        list_label.append(\"MA_AD\")\n",
    "    elif (label == 5):\n",
    "        list_label.append(\"MA_EL\")\n",
    "        \n",
    "submit_df[\"id\"] = list_id\n",
    "submit_df[\"label\"] = list_label"
   ]
  },
  {
   "cell_type": "code",
   "execution_count": null,
   "metadata": {},
   "outputs": [],
   "source": [
    "submit_df.tail()"
   ]
  },
  {
   "cell_type": "code",
   "execution_count": null,
   "metadata": {},
   "outputs": [],
   "source": [
    "submit_df.to_csv(os.path.join(data_dir, \"submit.tsv\"), sep='\\t', header=False, index=False)"
   ]
  },
  {
   "cell_type": "code",
   "execution_count": null,
   "metadata": {},
   "outputs": [],
   "source": []
  },
  {
   "cell_type": "code",
   "execution_count": 18,
   "metadata": {},
   "outputs": [],
   "source": [
    "wav, _ = librosa.load(os.path.join(data_dir, \"train/fff371f8fd363481780cf71abadd3912.wav\"), sr = sampling_rate, mono = True)\n",
    "wav = librosa.util.normalize(wav, norm=np.inf, axis=None)\n",
    "wav = wav_padding(wav = wav, sr = sampling_rate, frame_period = frame_period, multiple = 4)\n",
    "f0, timeaxis, sp, ap, mc = world_decompose(wav = wav, fs = sampling_rate, frame_period = frame_period, num_mcep = num_mcep)\n",
    "f0_mean = np.mean(np.nonzero(f0))/300."
   ]
  },
  {
   "cell_type": "code",
   "execution_count": 19,
   "metadata": {},
   "outputs": [
    {
     "data": {
      "text/plain": [
       "array([  0.        ,   0.        ,   0.        ,   0.        ,\n",
       "         0.        ,   0.        ,   0.        ,   0.        ,\n",
       "         0.        ,   0.        ,   0.        ,   0.        ,\n",
       "         0.        ,   0.        ,   0.        ,   0.        ,\n",
       "         0.        ,   0.        ,   0.        ,   0.        ,\n",
       "       263.05744187, 239.09910117, 226.15580341, 229.4756779 ,\n",
       "       243.01813225, 259.11554819, 273.81747903, 283.91915515,\n",
       "       285.91173425, 277.69971075, 261.86621035, 243.04219494,\n",
       "       226.68452825, 219.28510809, 220.94469276, 224.96851088,\n",
       "       225.94841794, 223.98455009, 221.70109494, 220.52390535,\n",
       "       219.97638386, 219.19744301, 218.26515622, 217.78993519,\n",
       "       218.62292461, 220.75981836, 223.53885069, 226.37939513,\n",
       "       229.2694394 , 232.91165119, 238.13849418, 245.12864453,\n",
       "       252.24226553, 257.59945475, 260.70345089, 262.48224507,\n",
       "       264.09205457, 266.06275013, 268.43722652, 270.98226473,\n",
       "       273.5231506 , 276.12598122, 278.82619051, 281.42335155,\n",
       "       283.66255378, 285.93556454, 289.22324556, 294.41523748,\n",
       "       301.47487819, 308.20499213, 311.70313682, 311.82597993,\n",
       "       310.17554264, 308.09217752, 306.75639212, 306.71100893,\n",
       "       307.86124154, 309.44051338, 310.70837912, 310.88399868,\n",
       "       310.31803778, 310.77894713, 312.82993638, 315.9890871 ,\n",
       "       321.91484587, 329.99669372, 335.16941211, 332.91775178,\n",
       "       324.50771208, 316.9360946 , 309.97276196, 304.75513578,\n",
       "       306.7242469 , 321.71551335, 349.67226975, 375.70104884,\n",
       "       375.81053465, 346.49028957, 310.50743663, 291.75312589,\n",
       "       289.50030266, 289.96129285, 286.45632859, 280.46393273,\n",
       "       274.91915749, 271.11390846, 268.38526073, 265.78558786,\n",
       "       263.2554302 , 261.52090159, 261.12246142, 261.60400984,\n",
       "       262.23088443, 262.74402923, 263.08168489, 263.28645038,\n",
       "       263.54973355, 264.17951618, 265.29963249, 266.79136014,\n",
       "       268.45527001, 270.09923292, 271.86652799, 274.3150394 ,\n",
       "       277.52808818, 280.24802222, 280.30090249, 277.37573506,\n",
       "       273.57102506, 270.64845463, 269.12132637, 268.4825305 ,\n",
       "       268.03720222, 267.5342583 , 267.14848696, 266.99071384,\n",
       "       267.11797631, 267.88449819, 269.80829772, 273.19909734,\n",
       "       276.94226238, 278.44343135, 276.16825377, 272.28530451,\n",
       "       271.36185036, 274.5695453 , 278.26920335, 277.21865303,\n",
       "       272.21241871, 267.90443629, 266.87036465, 269.27844861,\n",
       "       272.26391138, 271.91863417, 265.27288845, 251.7912524 ,\n",
       "       238.42161953, 235.09777416, 245.53700035, 264.58648841,\n",
       "       280.08387102, 285.77427517, 280.43150613, 266.36731023,\n",
       "       250.88115724, 239.23838371, 232.38553544, 228.84169214,\n",
       "       227.07851027, 225.36997167, 223.2369076 , 220.66096879,\n",
       "       217.99843743, 215.66310267, 213.47929452, 210.94690469,\n",
       "       207.79180386, 204.6765416 , 203.34510378, 204.07240607,\n",
       "       204.63885028, 203.97180248, 202.32067117, 200.46118227,\n",
       "       198.90794368, 197.75441909, 196.70714563, 195.46435574,\n",
       "       194.36972341, 193.93566637, 194.06637283, 194.25960543,\n",
       "       194.08729653, 193.22082932, 192.05230318, 191.11451496,\n",
       "       190.39589079, 189.67982567, 188.82976457, 187.77738243,\n",
       "       186.57271499, 185.33629545, 184.1191591 , 182.75499543,\n",
       "       180.87480833, 178.26467063, 175.63407478, 174.58554701,\n",
       "       175.16763113, 176.03157321, 176.3027808 , 175.84836798,\n",
       "       174.80874031, 173.52152432, 172.46855708, 171.75742   ,\n",
       "       171.06405656, 170.35388466, 169.96090316, 170.05316824,\n",
       "       170.29222495, 170.1682889 , 169.70843078, 169.38076178,\n",
       "       169.35646816, 169.43867092, 169.37576819, 169.00723834,\n",
       "       168.4193748 , 167.73265167, 167.15352989, 166.88964951,\n",
       "       167.02927666, 167.53351382, 168.17315186, 168.63207107,\n",
       "       168.67957167, 168.24024968, 167.10223658, 165.00723651,\n",
       "       162.3854785 , 160.38951783, 159.73464055, 160.11683956,\n",
       "       160.72635123, 161.21164491, 161.6823389 , 162.74270045,\n",
       "       165.3247653 , 170.10470964, 176.20857484, 181.47188123,\n",
       "       185.46519603, 188.5237657 , 190.23091402, 190.83508645,\n",
       "       191.57514908, 193.07409921, 195.11833097, 197.40762719,\n",
       "       199.73074586, 201.89702349, 203.79216505, 205.46612799,\n",
       "       206.98633317, 208.44983247, 209.93439548, 211.38470252,\n",
       "       212.71306214, 214.04189233, 215.50730983, 216.95660466,\n",
       "       218.20449996, 219.37964332, 220.66609733, 222.07431608,\n",
       "       223.38227077, 224.37884879, 225.10424689, 225.60149517,\n",
       "       225.85131694, 225.90375497, 225.87706116, 225.71510081,\n",
       "       225.24359955, 224.5446754 , 223.96755237, 223.72461273,\n",
       "       223.89332146, 224.42129879, 225.02639067, 225.38976233,\n",
       "       225.37155449, 224.44510371, 221.81976886, 217.17592186,\n",
       "       212.32732738, 210.37651466, 210.62282302, 211.70102755,\n",
       "       214.24527   , 218.24076346, 222.82379675, 227.46586972,\n",
       "       230.99459948, 233.10226957, 234.07883592, 234.52673963,\n",
       "       234.53774852, 234.15255912, 233.5930523 , 232.73185825,\n",
       "       231.59978383, 230.3656884 , 229.15362417, 227.98999278,\n",
       "       226.71656858, 225.33714076, 223.88228442, 222.2707405 ,\n",
       "       220.68985985, 219.84518787, 220.54561399, 222.79987867,\n",
       "       225.25205323, 226.16317941, 225.94098462, 225.55780054,\n",
       "       224.84262724, 223.68458484, 221.8903528 , 218.62335249,\n",
       "       215.17339932, 214.01858123, 216.02645429, 220.10145075,\n",
       "       224.48497549, 229.11809931, 234.51699588, 241.69398371,\n",
       "       251.40091693, 261.53822157, 268.45169912,   0.        ,\n",
       "         0.        ,   0.        ,   0.        ,   0.        ,\n",
       "         0.        ,   0.        ,   0.        , 226.38427687,\n",
       "       237.11575115, 246.5997278 , 251.06986453, 249.573136  ,\n",
       "       244.22052404, 238.20627173, 233.28526253, 229.74166165,\n",
       "       227.24709776, 225.31984917, 223.63604719, 221.92835365,\n",
       "       220.11595875, 218.15148233, 215.89340384, 213.43904406,\n",
       "       211.15142857, 209.09847852, 207.00925907, 204.7374118 ,\n",
       "       202.32028323, 199.54699987, 196.70058813, 194.06141396,\n",
       "       191.53249514, 188.844949  , 185.91447355, 183.00480728,\n",
       "       180.60154959, 178.824676  , 177.61218439, 176.73916165,\n",
       "       175.85640401, 174.79096929, 173.46502291, 172.02484527,\n",
       "       170.76605164, 169.82393516, 169.45157219, 170.13833371,\n",
       "       172.04773986, 174.50180404, 176.14920524, 176.95976612,\n",
       "       178.50199325, 182.03925371, 185.39978233, 186.02039333,\n",
       "       184.39984863, 182.46601971, 180.82525186, 177.93172605,\n",
       "       172.61952655, 168.29042748, 168.00742162, 170.68541083,\n",
       "       174.18967505, 176.18185318, 174.91453348, 172.03523756,\n",
       "       171.6700754 , 175.25226789,   0.        ,   0.        ,\n",
       "         0.        ,   0.        ,   0.        ,   0.        ,\n",
       "         0.        ,   0.        ,   0.        ,   0.        ,\n",
       "         0.        ,   0.        ,   0.        ,   0.        ,\n",
       "         0.        ,   0.        ,   0.        ,   0.        ,\n",
       "         0.        ,   0.        ,   0.        ,   0.        ,\n",
       "         0.        ,   0.        ,   0.        , 196.69446357,\n",
       "       186.72470779, 181.15100866, 178.32544639, 172.12088205,\n",
       "       160.92607145, 151.04906079, 146.32295027, 144.85226694,\n",
       "       144.51992213, 144.38555997, 144.05868857, 143.61386561,\n",
       "       143.06126945, 142.22197394, 141.14050664, 140.09213173,\n",
       "       139.44351266, 139.70997414, 141.73923858, 145.62128752,\n",
       "       149.92517488, 152.8405182 , 153.80805245, 153.62022498,\n",
       "       153.38477314, 153.81604156, 154.94311707, 156.59129295,\n",
       "       158.75088159, 161.28730421, 163.68126398, 165.53960386,\n",
       "       166.75308048, 167.4383502 , 167.93853328, 168.53016705,\n",
       "       169.35047238, 170.2907909 , 171.34061531, 172.86211818,\n",
       "       175.09234739, 177.86693763, 181.49146289, 186.42863843,\n",
       "       192.01836799, 198.06679295, 205.01282866, 211.40856811,\n",
       "       216.11288556, 219.73584988, 222.91991557, 225.96741613,\n",
       "       228.06597761, 228.68648004, 228.44438182, 225.5677107 ,\n",
       "       218.78515167, 208.94617229, 196.8224456 , 181.98632061,\n",
       "       165.20713512, 151.27571996, 141.41207853, 133.68486474,\n",
       "       128.3543766 , 126.6826224 ,   0.        ,   0.        ,\n",
       "         0.        ,   0.        ,   0.        ,   0.        ,\n",
       "         0.        ,   0.        ,   0.        ,   0.        ,\n",
       "         0.        ,   0.        ,   0.        ,   0.        ,\n",
       "         0.        ,   0.        ,   0.        ,   0.        ,\n",
       "         0.        ,   0.        ,   0.        ,   0.        ,\n",
       "         0.        ,   0.        ,   0.        ,   0.        ,\n",
       "         0.        ,   0.        ,   0.        ,   0.        ,\n",
       "         0.        ,   0.        ,   0.        ,   0.        ,\n",
       "         0.        ,   0.        ,   0.        ,   0.        ,\n",
       "         0.        ,   0.        ,   0.        ,   0.        ,\n",
       "         0.        ,   0.        ,   0.        ,   0.        ,\n",
       "         0.        ,   0.        ,   0.        ,  81.85645777,\n",
       "        71.80000983,  72.80244233, 109.76247112, 215.83013215,\n",
       "       392.20497627,   0.        ,   0.        ,   0.        ,\n",
       "         0.        ,   0.        ,   0.        ,   0.        ,\n",
       "         0.        ,   0.        ,   0.        ,   0.        ,\n",
       "         0.        ,   0.        ,   0.        ,   0.        ])"
      ]
     },
     "execution_count": 19,
     "metadata": {},
     "output_type": "execute_result"
    }
   ],
   "source": [
    "f0"
   ]
  },
  {
   "cell_type": "code",
   "execution_count": 20,
   "metadata": {},
   "outputs": [
    {
     "data": {
      "text/plain": [
       "174.36132375431882"
      ]
     },
     "execution_count": 20,
     "metadata": {},
     "output_type": "execute_result"
    }
   ],
   "source": [
    "f0_mean"
   ]
  },
  {
   "cell_type": "code",
   "execution_count": 26,
   "metadata": {},
   "outputs": [
    {
     "data": {
      "text/plain": [
       "0.475558455022635"
      ]
     },
     "execution_count": 26,
     "metadata": {},
     "output_type": "execute_result"
    }
   ],
   "source": [
    "np.std(np.nonzero(f0))/300."
   ]
  },
  {
   "cell_type": "code",
   "execution_count": 35,
   "metadata": {},
   "outputs": [
    {
     "data": {
      "text/plain": [
       "([array([9., 0., 0., 0., 0., 0., 0., 0., 0., 1.]),\n",
       "  array([11.,  0.,  0.,  0.,  0.,  0.,  0.,  0.,  0.,  0.])],\n",
       " array([-1.83714813e+01,  1.92986567e+03,  3.87810281e+03,  5.82633996e+03,\n",
       "         7.77457711e+03,  9.72281426e+03,  1.16710514e+04,  1.36192886e+04,\n",
       "         1.55675257e+04,  1.75157629e+04,  1.94640000e+04]),\n",
       " <a list of 2 Lists of Patches objects>)"
      ]
     },
     "execution_count": 35,
     "metadata": {},
     "output_type": "execute_result"
    },
    {
     "data": {
      "image/png": "[encoded data removed]",
      "text/plain": [
       "<matplotlib.figure.Figure at 0x7f81abd27780>"
      ]
     },
     "metadata": {},
     "output_type": "display_data"
    }
   ],
   "source": [
    "import matplotlib.pyplot as plt\n",
    "plt.hist(np.histogram(mc))"
   ]
  }
 ],
 "metadata": {
  "kernelspec": {
   "display_name": "Python 3",
   "language": "python",
   "name": "python3"
  },
  "language_info": {
   "codemirror_mode": {
    "name": "ipython",
    "version": 3
   },
   "file_extension": ".py",
   "mimetype": "text/x-python",
   "name": "python",
   "nbconvert_exporter": "python",
   "pygments_lexer": "ipython3",
   "version": "3.6.4"
  }
 },
 "nbformat": 4,
 "nbformat_minor": 2
}
